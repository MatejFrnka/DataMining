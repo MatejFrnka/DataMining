{
 "cells": [
  {
   "cell_type": "markdown",
   "source": [
    "# Homework 2\n",
    "## Imports"
   ],
   "metadata": {
    "collapsed": false,
    "pycharm": {
     "name": "#%% md\n"
    }
   }
  },
  {
   "cell_type": "code",
   "execution_count": 2,
   "outputs": [],
   "source": [
    "import time\n",
    "from itertools import combinations"
   ],
   "metadata": {
    "collapsed": false,
    "pycharm": {
     "name": "#%%\n"
    }
   }
  },
  {
   "cell_type": "markdown",
   "source": [
    "## A-priori class\n",
    "Implements the algorithm from the lecture"
   ],
   "metadata": {
    "collapsed": false,
    "pycharm": {
     "name": "#%% md\n"
    }
   }
  },
  {
   "cell_type": "code",
   "execution_count": 3,
   "outputs": [],
   "source": [
    "class Apriori:\n",
    "    @staticmethod\n",
    "    def get_combinations_l_0(data):\n",
    "        \"\"\"\n",
    "        :param data: Array of sets - each set containing the row in the dataset\n",
    "        :return: Returns a set of frozen sets of size 1. Contains all items from data\n",
    "        \"\"\"\n",
    "        res = set()\n",
    "        for row in data:\n",
    "            for item in row:\n",
    "                # Add item to result\n",
    "                res.add(frozenset({item}))\n",
    "        return res\n",
    "\n",
    "    @staticmethod\n",
    "    def get_combinations(l1_sets, lk_sets):\n",
    "        \"\"\"\n",
    "\n",
    "        :param l1_sets: set of frozen sets returned from get_combinations_l_1 function.\n",
    "        :param lk_sets: set of frozen sets of k - 1 size\n",
    "        :return: sets of frozen sets of length k created by combining elements from l1_sets and lk_sets\n",
    "         where the intersection in an empty set.\n",
    "        \"\"\"\n",
    "        res = set()\n",
    "        for item in lk_sets:\n",
    "            for val in l1_sets:\n",
    "                # check if val is not a subset of item\n",
    "                # no need to check the other way because size of item is always larger or equal than val\n",
    "                if not val.issubset(item):\n",
    "                    res.add(frozenset.union(val, item))\n",
    "        return res\n",
    "\n",
    "    @staticmethod\n",
    "    def check(candidate_subsets, support, k, data):\n",
    "        \"\"\"\n",
    "        This function counts all occurrences of candidate_subsets in data and check if their\n",
    "        count is above the given threshold s\n",
    "        :param candidate_subsets: array of subsets to filter out the non-frequent items\n",
    "        :param support: support\n",
    "        :param k: size of sets in the subsets\n",
    "        :param data: the dataset\n",
    "        :return: filtered dictionary with candidate sets as keys and their counts as values\n",
    "        \"\"\"\n",
    "        subset_cnt = {subset: 0 for subset in candidate_subsets}\n",
    "        for item in data:\n",
    "            for comb in combinations(item, k):\n",
    "                # if comb is in candidate subsets, increase its count by 1\n",
    "                if frozenset(comb) in subset_cnt:\n",
    "                    subset_cnt[frozenset(comb)] += 1\n",
    "        # only return subsets that are frequent enough\n",
    "        threshold_cnt = len(data) * support\n",
    "        return {subset: val for subset, val in subset_cnt.items() if val > threshold_cnt}\n",
    "\n",
    "    @staticmethod\n",
    "    def find_frequent(support, data):\n",
    "        \"\"\"\n",
    "        This function uses the A-priori pruning principle - if there is any item-set that is infrequent,\n",
    "        its superset is also not frequent. The function starts with generating subsets of size 1 and then increases\n",
    "        their size until they are of size k\n",
    "        :param support: support, must be in range [0,1]\n",
    "        :param k: find frequent sets of size k, must be an integer greater than 0\n",
    "        :param data: array of sets representing the dataset\n",
    "        :return: array of dictionaries where key is the set above support and value is number of occurrences in data\n",
    "        \"\"\"\n",
    "        assert support >= 0\n",
    "        assert support <= 1\n",
    "\n",
    "        l = list()\n",
    "\n",
    "        # generate subsets of size 1\n",
    "        t = time.time()\n",
    "        l_1 = Apriori.get_combinations_l_0(data)\n",
    "        # filter out the infrequent subsets\n",
    "        l_1_dict = Apriori.check(l_1, support, 1, data)\n",
    "        print(time.time() - t)\n",
    "        if len(l_1_dict) == 0:\n",
    "            return l\n",
    "\n",
    "        l.append(l_1_dict)\n",
    "        k = 2\n",
    "        while True:\n",
    "            t = time.time()\n",
    "\n",
    "            # generate subsets of size i\n",
    "            l_k = Apriori.get_combinations(l_1_dict.keys(), l[-1])\n",
    "\n",
    "            # filter out the infrequent subsets\n",
    "            l_k_dict = Apriori.check(l_k, support, k, data)\n",
    "\n",
    "            print(time.time() - t)\n",
    "            if len(l_k_dict) == 0:\n",
    "                return l\n",
    "            l.append(l_k_dict)\n",
    "            k += 1\n",
    "\n",
    "    @staticmethod\n",
    "    def find_associated(support, confidence, data):\n",
    "        \"\"\"\n",
    "        Finds association rules\n",
    "        :param support: support level the set has to have to be considered for association rules\n",
    "        :param confidence: confidence of the association\n",
    "        :param data: the dataset to look for the rules in\n",
    "        :return: set of tuples where the association is as follows: tuple[0] -> tuple[1]\n",
    "        \"\"\"\n",
    "        frequent_array = Apriori.find_frequent(support, data)\n",
    "        # get all combinations\n",
    "        comb = set()\n",
    "        for frequent in frequent_array:\n",
    "            for frequent_set, frequent_count in frequent.items():\n",
    "                for i in range(1, len(frequent_set)):\n",
    "                    for frequent_subset in combinations(frequent_set, i):\n",
    "                        frequent_subset = frozenset(frequent_subset)\n",
    "                        subset_count = frequent_array[i - 1][frequent_subset]\n",
    "                        c = frequent_count / subset_count\n",
    "                        if c > confidence:\n",
    "                            comb.add((frequent_subset, frequent_set - frequent_subset))\n",
    "        return comb"
   ],
   "metadata": {
    "collapsed": false,
    "pycharm": {
     "name": "#%%\n"
    }
   }
  },
  {
   "cell_type": "markdown",
   "source": [
    "## Data loader class\n",
    "Loads space seperated numbers in specified file.\n"
   ],
   "metadata": {
    "collapsed": false,
    "pycharm": {
     "name": "#%% md\n"
    }
   }
  },
  {
   "cell_type": "code",
   "execution_count": 4,
   "outputs": [],
   "source": [
    "class DataLoader:\n",
    "    res = []\n",
    "\n",
    "    @staticmethod\n",
    "    def load(path):\n",
    "        \"\"\"\n",
    "        Loads space seperated numbers in specified file.\n",
    "        :param path: File path\n",
    "        :return: Array of frozen sets\n",
    "        \"\"\"\n",
    "        res = []\n",
    "        with open(path) as file:\n",
    "            for line in file:\n",
    "                res.append(frozenset([int(x) for x in line.split(\" \") if x.isdigit()]))\n",
    "        return res\n"
   ],
   "metadata": {
    "collapsed": false,
    "pycharm": {
     "name": "#%%\n"
    }
   }
  },
  {
   "cell_type": "code",
   "execution_count": 5,
   "outputs": [],
   "source": [
    "support = 0.01\n",
    "confidence = 0.5"
   ],
   "metadata": {
    "collapsed": false,
    "pycharm": {
     "name": "#%%\n"
    }
   }
  },
  {
   "cell_type": "markdown",
   "source": [
    "Finding all frequent sets"
   ],
   "metadata": {
    "collapsed": false,
    "pycharm": {
     "name": "#%% md\n"
    }
   }
  },
  {
   "cell_type": "code",
   "execution_count": 6,
   "outputs": [
    {
     "name": "stdout",
     "output_type": "stream",
     "text": [
      "0.7151932716369629\n",
      "2.727889060974121\n",
      "3.2778327465057373\n",
      "9.168785095214844\n",
      "[{frozenset({675}): 2976, frozenset({33}): 1460, frozenset({701}): 1283, frozenset({274}): 2628, frozenset({617}): 2614, frozenset({561}): 2783, frozenset({97}): 1466, frozenset({185}): 1529, frozenset({862}): 3649, frozenset({104}): 1158, frozenset({210}): 2009, frozenset({823}): 1031, frozenset({334}): 2146, frozenset({618}): 1337, frozenset({285}): 2600, frozenset({25}): 1395, frozenset({688}): 1132, frozenset({111}): 1171, frozenset({814}): 1672, frozenset({874}): 2237, frozenset({73}): 2179, frozenset({496}): 1428, frozenset({85}): 1555, frozenset({541}): 3735, frozenset({707}): 1354, frozenset({336}): 1071, frozenset({765}): 1705, frozenset({381}): 2959, frozenset({276}): 2479, frozenset({51}): 1612, frozenset({75}): 3151, frozenset({913}): 1939, frozenset({653}): 2634, frozenset({275}): 1692, frozenset({296}): 2210, frozenset({335}): 1345, frozenset({631}): 2793, frozenset({918}): 3012, frozenset({515}): 1166, frozenset({403}): 1722, frozenset({170}): 1203, frozenset({663}): 2354, frozenset({116}): 2193, frozenset({694}): 2847, frozenset({841}): 1927, frozenset({820}): 1473, frozenset({177}): 4629, frozenset({523}): 2244, frozenset({919}): 3710, frozenset({115}): 1775, frozenset({69}): 2370, frozenset({500}): 1444, frozenset({41}): 1353, frozenset({280}): 2108, frozenset({17}): 1683, frozenset({832}): 2062, frozenset({829}): 6810, frozenset({157}): 1140, frozenset({401}): 3667, frozenset({638}): 2288, frozenset({574}): 1297, frozenset({38}): 2402, frozenset({982}): 1640, frozenset({326}): 1488, frozenset({129}): 1547, frozenset({470}): 4137, frozenset({984}): 1756, frozenset({357}): 1142, frozenset({308}): 1402, frozenset({57}): 2743, frozenset({789}): 4309, frozenset({952}): 1574, frozenset({279}): 3014, frozenset({522}): 2725, frozenset({132}): 2641, frozenset({684}): 5408, frozenset({234}): 1416, frozenset({810}): 1267, frozenset({55}): 1959, frozenset({941}): 1126, frozenset({540}): 1293, frozenset({946}): 1350, frozenset({578}): 1290, frozenset({843}): 1222, frozenset({720}): 3864, frozenset({201}): 1029, frozenset({32}): 4248, frozenset({120}): 4973, frozenset({94}): 1201, frozenset({325}): 1022, frozenset({548}): 2843, frozenset({749}): 1330, frozenset({890}): 1437, frozenset({236}): 2618, frozenset({105}): 1100, frozenset({649}): 1292, frozenset({947}): 3690, frozenset({944}): 2794, frozenset({163}): 1256, frozenset({196}): 2096, frozenset({554}): 1114, frozenset({110}): 1801, frozenset({378}): 1149, frozenset({950}): 1463, frozenset({914}): 4037, frozenset({168}): 1538, frozenset({368}): 7828, frozenset({428}): 1021, frozenset({173}): 1080, frozenset({800}): 1916, frozenset({788}): 2386, frozenset({804}): 1315, frozenset({572}): 1589, frozenset({538}): 3982, frozenset({227}): 1818, frozenset({960}): 2732, frozenset({486}): 1547, frozenset({620}): 2100, frozenset({413}): 2637, frozenset({630}): 1523, frozenset({661}): 2693, frozenset({935}): 1742, frozenset({319}): 1371, frozenset({504}): 1296, frozenset({682}): 4132, frozenset({581}): 2943, frozenset({346}): 3470, frozenset({259}): 1522, frozenset({614}): 3134, frozenset({343}): 1599, frozenset({422}): 1255, frozenset({52}): 1983, frozenset({348}): 1226, frozenset({967}): 1695, frozenset({242}): 2325, frozenset({846}): 1480, frozenset({290}): 1793, frozenset({366}): 1031, frozenset({147}): 1383, frozenset({362}): 4388, frozenset({744}): 2177, frozenset({706}): 1923, frozenset({72}): 2852, frozenset({710}): 1044, frozenset({469}): 1502, frozenset({867}): 1530, frozenset({834}): 1373, frozenset({597}): 2883, frozenset({591}): 1241, frozenset({769}): 1622, frozenset({70}): 2411, frozenset({579}): 2164, frozenset({853}): 1804, frozenset({205}): 3605, frozenset({658}): 1881, frozenset({310}): 1390, frozenset({217}): 5375, frozenset({424}): 1448, frozenset({240}): 1399, frozenset({6}): 2149, frozenset({740}): 1632, frozenset({460}): 4438, frozenset({35}): 1984, frozenset({490}): 1066, frozenset({716}): 1199, frozenset({414}): 1160, frozenset({793}): 3063, frozenset({332}): 1861, frozenset({322}): 1154, frozenset({550}): 1203, frozenset({888}): 3686, frozenset({204}): 2174, frozenset({468}): 1089, frozenset({546}): 1050, frozenset({819}): 1257, frozenset({932}): 1786, frozenset({795}): 3361, frozenset({354}): 5835, frozenset({394}): 1145, frozenset({912}): 1009, frozenset({923}): 1753, frozenset({526}): 2793, frozenset({893}): 1947, frozenset({634}): 2492, frozenset({140}): 2687, frozenset({143}): 1417, frozenset({126}): 1075, frozenset({964}): 1518, frozenset({527}): 1185, frozenset({458}): 1124, frozenset({641}): 1494, frozenset({21}): 2666, frozenset({510}): 3281, frozenset({989}): 1289, frozenset({758}): 2860, frozenset({145}): 4559, frozenset({798}): 3103, frozenset({450}): 2082, frozenset({10}): 1351, frozenset({883}): 4902, frozenset({774}): 2046, frozenset({949}): 1414, frozenset({58}): 1330, frozenset({54}): 2595, frozenset({192}): 2004, frozenset({797}): 2684, frozenset({639}): 1572, frozenset({112}): 2680, frozenset({906}): 1444, frozenset({489}): 3420, frozenset({37}): 1249, frozenset({886}): 3053, frozenset({611}): 1444, frozenset({884}): 1645, frozenset({970}): 2086, frozenset({392}): 2420, frozenset({171}): 1097, frozenset({214}): 1893, frozenset({966}): 3921, frozenset({628}): 1102, frozenset({487}): 3135, frozenset({521}): 1582, frozenset({792}): 1306, frozenset({419}): 5057, frozenset({995}): 1521, frozenset({598}): 3219, frozenset({718}): 1238, frozenset({738}): 2129, frozenset({567}): 1102, frozenset({594}): 1516, frozenset({472}): 2125, frozenset({377}): 1149, frozenset({752}): 2578, frozenset({461}): 1498, frozenset({5}): 1094, frozenset({988}): 1164, frozenset({623}): 1845, frozenset({583}): 1389, frozenset({1}): 1535, frozenset({39}): 4258, frozenset({283}): 4082, frozenset({571}): 2902, frozenset({563}): 1065, frozenset({736}): 1470, frozenset({411}): 2047, frozenset({673}): 1635, frozenset({31}): 1666, frozenset({48}): 2472, frozenset({151}): 2611, frozenset({576}): 1337, frozenset({978}): 1141, frozenset({529}): 7057, frozenset({704}): 1794, frozenset({266}): 1022, frozenset({100}): 1749, frozenset({921}): 2425, frozenset({790}): 1094, frozenset({899}): 1252, frozenset({385}): 1676, frozenset({405}): 1525, frozenset({28}): 1454, frozenset({509}): 3044, frozenset({805}): 1789, frozenset({854}): 2847, frozenset({516}): 1544, frozenset({895}): 3385, frozenset({975}): 1764, frozenset({130}): 1711, frozenset({350}): 3069, frozenset({815}): 1358, frozenset({778}): 2514, frozenset({440}): 1943, frozenset({122}): 1081, frozenset({27}): 2165, frozenset({910}): 1695, frozenset({8}): 3090, frozenset({897}): 1935, frozenset({991}): 1268, frozenset({45}): 1728, frozenset({784}): 1257, frozenset({775}): 3771, frozenset({175}): 2791, frozenset({154}): 1447, frozenset({981}): 1542, frozenset({780}): 2306, frozenset({351}): 1641, frozenset({605}): 1652, frozenset({573}): 1229, frozenset({606}): 2668, frozenset({125}): 1287, frozenset({4}): 1394, frozenset({735}): 1689, frozenset({294}): 1445, frozenset({181}): 1235, frozenset({530}): 1263, frozenset({258}): 1036, frozenset({93}): 2777, frozenset({825}): 3085, frozenset({676}): 2717, frozenset({183}): 3883, frozenset({68}): 1601, frozenset({593}): 2601, frozenset({513}): 1287, frozenset({692}): 4993, frozenset({632}): 1070, frozenset({207}): 1214, frozenset({844}): 2814, frozenset({265}): 1359, frozenset({239}): 2742, frozenset({162}): 1450, frozenset({746}): 1982, frozenset({387}): 2089, frozenset({956}): 3626, frozenset({803}): 2237, frozenset({197}): 1230, frozenset({708}): 1090, frozenset({161}): 2320, frozenset({438}): 4511, frozenset({448}): 1370, frozenset({763}): 1862, frozenset({928}): 1034, frozenset({494}): 5102, frozenset({208}): 1483, frozenset({826}): 2022, frozenset({937}): 4681, frozenset({651}): 1288, frozenset({812}): 1518, frozenset({678}): 1329, frozenset({12}): 3415, frozenset({860}): 1255, frozenset({871}): 2810, frozenset({449}): 1890, frozenset({963}): 1327, frozenset({429}): 1037, frozenset({766}): 6265, frozenset({198}): 1461, frozenset({43}): 1721, frozenset({674}): 2527, frozenset({733}): 1141, frozenset({480}): 2309, frozenset({71}): 3507, frozenset({809}): 2163, frozenset({229}): 2281, frozenset({998}): 2713, frozenset({885}): 3043, frozenset({517}): 1201, frozenset({423}): 1412, frozenset({577}): 1695, frozenset({361}): 1104, frozenset({686}): 1495, frozenset({900}): 1165, frozenset({511}): 1015, frozenset({948}): 1149, frozenset({309}): 1262, frozenset({665}): 1297, frozenset({782}): 2767, frozenset({534}): 1531, frozenset({857}): 1588, frozenset({722}): 5845, frozenset({427}): 1856, frozenset({78}): 2471, frozenset({477}): 2462, frozenset({580}): 1667, frozenset({390}): 2685, frozenset({859}): 1242, frozenset({90}): 1875, frozenset({569}): 2835, frozenset({471}): 2894, frozenset({687}): 1762, frozenset({887}): 1671, frozenset({992}): 1116, frozenset({373}): 2007, frozenset({349}): 2041, frozenset({878}): 2047, frozenset({600}): 1192}, {frozenset({368, 829}): 1194, frozenset({722, 390}): 1042, frozenset({829, 789}): 1194, frozenset({704, 825}): 1102, frozenset({704, 39}): 1107, frozenset({227, 390}): 1049, frozenset({368, 682}): 1193, frozenset({217, 346}): 1336, frozenset({825, 39}): 1187}, {frozenset({704, 825, 39}): 1035}]\n",
      "Execution time: 15.890702247619629\n"
     ]
    }
   ],
   "source": [
    "data = DataLoader.load(\"data/T10I4D100K.dat\")\n",
    "t = time.time()\n",
    "print(Apriori().find_frequent(support, data))\n",
    "print(f\"Execution time: {time.time() - t}\")"
   ],
   "metadata": {
    "collapsed": false,
    "pycharm": {
     "name": "#%%\n"
    }
   }
  },
  {
   "cell_type": "markdown",
   "source": [
    "Finding all association rules"
   ],
   "metadata": {
    "collapsed": false,
    "pycharm": {
     "name": "#%% md\n"
    }
   }
  },
  {
   "cell_type": "code",
   "execution_count": 7,
   "outputs": [
    {
     "name": "stdout",
     "output_type": "stream",
     "text": [
      "0.6796071529388428\n",
      "2.6224918365478516\n",
      "3.252183675765991\n",
      "9.199936866760254\n",
      "{(frozenset({704}), frozenset({825, 39})), (frozenset({825, 39}), frozenset({704})), (frozenset({704}), frozenset({825})), (frozenset({704, 825}), frozenset({39})), (frozenset({227}), frozenset({390})), (frozenset({704}), frozenset({39})), (frozenset({704, 39}), frozenset({825}))}\n",
      "Execution time: 15.75421953201294\n"
     ]
    }
   ],
   "source": [
    "data = DataLoader.load(\"data/T10I4D100K.dat\")\n",
    "t = time.time()\n",
    "print(Apriori().find_associated(support, confidence, data))\n",
    "print(f\"Execution time: {time.time() - t}\")"
   ],
   "metadata": {
    "collapsed": false,
    "pycharm": {
     "name": "#%%\n"
    }
   }
  }
 ],
 "metadata": {
  "kernelspec": {
   "display_name": "Python 3",
   "language": "python",
   "name": "python3"
  },
  "language_info": {
   "codemirror_mode": {
    "name": "ipython",
    "version": 2
   },
   "file_extension": ".py",
   "mimetype": "text/x-python",
   "name": "python",
   "nbconvert_exporter": "python",
   "pygments_lexer": "ipython2",
   "version": "2.7.6"
  }
 },
 "nbformat": 4,
 "nbformat_minor": 0
}