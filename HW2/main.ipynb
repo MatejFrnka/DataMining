{
 "cells": [
  {
   "cell_type": "markdown",
   "source": [
    "# Homework 2\n",
    "## Imports"
   ],
   "metadata": {
    "collapsed": false,
    "pycharm": {
     "name": "#%% md\n"
    }
   }
  },
  {
   "cell_type": "code",
   "execution_count": 1,
   "outputs": [],
   "source": [
    "import time\n",
    "from itertools import combinations"
   ],
   "metadata": {
    "collapsed": false,
    "pycharm": {
     "name": "#%%\n"
    }
   }
  },
  {
   "cell_type": "markdown",
   "source": [
    "## A-priori class\n",
    "Implements the algorithm from the lecture"
   ],
   "metadata": {
    "collapsed": false,
    "pycharm": {
     "name": "#%% md\n"
    }
   }
  },
  {
   "cell_type": "code",
   "execution_count": 7,
   "outputs": [],
   "source": [
    "class Apriori:\n",
    "    @staticmethod\n",
    "    def get_combinations_l_1(data):\n",
    "        \"\"\"\n",
    "        :param data: Array of sets - each set containing the row in the dataset\n",
    "        :return: Returns a set of frozen sets of size 1. Contains all items from data\n",
    "        \"\"\"\n",
    "        res = set()\n",
    "        for row in data:\n",
    "            for item in row:\n",
    "                # Add item to result\n",
    "                res.add(frozenset({item}))\n",
    "        return res\n",
    "\n",
    "    @staticmethod\n",
    "    def get_combinations(l1_sets, lk_sets):\n",
    "        \"\"\"\n",
    "\n",
    "        :param l1_sets: set of frozen sets returned from get_combinations_l_1 function.\n",
    "        :param lk_sets: set of frozen sets of k - 1 size\n",
    "        :return: sets of frozen sets of length k created by combining elements from l1_sets and lk_sets\n",
    "         where the intersection in an empty set.\n",
    "        \"\"\"\n",
    "        res = set()\n",
    "        for item in lk_sets:\n",
    "            for val in l1_sets:\n",
    "                # check if val is not a subset of item\n",
    "                # no need to check the other way because size of item is always larger or equal than val\n",
    "                if not val.issubset(item):\n",
    "                    res.add(frozenset.union(val, item))\n",
    "        return res\n",
    "\n",
    "    @staticmethod\n",
    "    def check(candidate_subsets, s, k, data):\n",
    "        \"\"\"\n",
    "        This function counts all occurrences of candidate_subsets in data and check if their\n",
    "        count is above the given threshold s\n",
    "        :param candidate_subsets: array of subsets to filter out the non-frequent items\n",
    "        :param s: support level\n",
    "        :param k: size of sets in the subsets\n",
    "        :param data: the dataset\n",
    "        :return: filtered array of candidate subsets\n",
    "        \"\"\"\n",
    "        subset_cnt = {subset: 0 for subset in candidate_subsets}\n",
    "        for item in data:\n",
    "            for comb in combinations(item, k):\n",
    "                # if comb is in candidate subsets, increase its count by 1\n",
    "                if frozenset(comb) in subset_cnt:\n",
    "                    subset_cnt[frozenset(comb)] += 1\n",
    "        # only return subsets that are frequent enough\n",
    "        threshold_cnt = len(data) * s\n",
    "        return [subset for subset, val in subset_cnt.items() if val > threshold_cnt]\n",
    "\n",
    "    @staticmethod\n",
    "    def compute(s, k, data):\n",
    "        \"\"\"\n",
    "        This function uses the A-priori pruning principle - if there is any item-set that is infrequent,\n",
    "        its superset is also not frequent. The function starts with generating subsets of size 1 and then increases\n",
    "        their size until they are of size k\n",
    "        :param s: support level, must be in range (0,1]\n",
    "        :param k: find frequent sets of size k, must be an integer greater than 0\n",
    "        :param data: array of sets representing the dataset\n",
    "        :return: array of frozen sets with frequency above the support level\n",
    "        \"\"\"\n",
    "        assert k > 0\n",
    "        assert s >= 0\n",
    "        assert s <= 1\n",
    "        t = time.time()\n",
    "\n",
    "        # generate subsets of size 1\n",
    "        l_1 = Apriori.get_combinations_l_1(data)\n",
    "\n",
    "        # filter out the infrequent subsets\n",
    "        l_1 = Apriori.check(l_1, s, 1, data)\n",
    "        print(f\"Iteration 1 execution time: {time.time() - t}\")\n",
    "        l_prev = l_1\n",
    "        for i in range(2, k + 1):\n",
    "            t = time.time()\n",
    "\n",
    "            # generate subsets of size i\n",
    "            l_curr = Apriori.get_combinations(l_1, l_prev)\n",
    "\n",
    "            # filter out the infrequent subsets\n",
    "            l_curr = Apriori.check(l_curr, s, i, data)\n",
    "\n",
    "            print(f\"Iteration {i} execution time: {time.time() - t}\")\n",
    "            l_prev = l_curr\n",
    "        return l_prev"
   ],
   "metadata": {
    "collapsed": false,
    "pycharm": {
     "name": "#%%\n"
    }
   }
  },
  {
   "cell_type": "markdown",
   "source": [
    "## Data loader class\n",
    "Loads space seperated numbers in specified file.\n"
   ],
   "metadata": {
    "collapsed": false,
    "pycharm": {
     "name": "#%% md\n"
    }
   }
  },
  {
   "cell_type": "code",
   "execution_count": 3,
   "outputs": [],
   "source": [
    "class DataLoader:\n",
    "    res = []\n",
    "\n",
    "    @staticmethod\n",
    "    def load(path):\n",
    "        \"\"\"\n",
    "        Loads space seperated numbers in specified file.\n",
    "        :param path: File path\n",
    "        :return: Array of frozen sets\n",
    "        \"\"\"\n",
    "        res = []\n",
    "        with open(path) as file:\n",
    "            for line in file:\n",
    "                res.append(frozenset([int(x) for x in line.split(\" \") if x.isdigit()]))\n",
    "        return res\n"
   ],
   "metadata": {
    "collapsed": false,
    "pycharm": {
     "name": "#%%\n"
    }
   }
  },
  {
   "cell_type": "code",
   "execution_count": 8,
   "outputs": [
    {
     "name": "stdout",
     "output_type": "stream",
     "text": [
      "Iteration 1 execution time: 1.1999168395996094\n",
      "Iteration 2 execution time: 4.132015705108643\n",
      "Iteration 3 execution time: 4.891966104507446\n",
      "[frozenset({704, 825, 39})]\n",
      "Execution time: 11.195912837982178\n"
     ]
    }
   ],
   "source": [
    "support_s = 0.01\n",
    "target_size_of_subsets = 3\n",
    "\n",
    "t = time.time()\n",
    "\n",
    "data = DataLoader.load(\"data/T10I4D100K.dat\")\n",
    "print(Apriori().compute(support_s, target_size_of_subsets, data))\n",
    "\n",
    "print(f\"Execution time: {time.time() - t}\")"
   ],
   "metadata": {
    "collapsed": false,
    "pycharm": {
     "name": "#%%\n"
    }
   }
  },
  {
   "cell_type": "code",
   "execution_count": null,
   "outputs": [],
   "source": [],
   "metadata": {
    "collapsed": false,
    "pycharm": {
     "name": "#%%\n"
    }
   }
  }
 ],
 "metadata": {
  "kernelspec": {
   "display_name": "Python 3",
   "language": "python",
   "name": "python3"
  },
  "language_info": {
   "codemirror_mode": {
    "name": "ipython",
    "version": 2
   },
   "file_extension": ".py",
   "mimetype": "text/x-python",
   "name": "python",
   "nbconvert_exporter": "python",
   "pygments_lexer": "ipython2",
   "version": "2.7.6"
  }
 },
 "nbformat": 4,
 "nbformat_minor": 0
}